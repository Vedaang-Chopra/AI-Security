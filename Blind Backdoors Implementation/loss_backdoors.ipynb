{
 "cells": [
  {
   "cell_type": "code",
   "execution_count": 1,
   "id": "43d4383b",
   "metadata": {},
   "outputs": [
    {
     "name": "stdout",
     "output_type": "stream",
     "text": [
      "1.13.1+cu117 11.7\n",
      "CUDA available: True\n",
      "NVIDIA A100 80GB PCIe\n"
     ]
    }
   ],
   "source": [
    "import os\n",
    "os.environ.pop(\"PYTORCH_CUDA_ALLOC_CONF\", None)\n",
    "# or: os.environ[\"PYTORCH_CUDA_ALLOC_CONF\"] = \"max_split_size_mb:256\"\n",
    "\n",
    "import torch\n",
    "print(torch.__version__, torch.version.cuda)\n",
    "print(\"CUDA available:\", torch.cuda.is_available())\n",
    "if torch.cuda.is_available():\n",
    "    print(torch.cuda.get_device_name(0))\n"
   ]
  },
  {
   "cell_type": "code",
   "execution_count": 2,
   "id": "49954ac7",
   "metadata": {},
   "outputs": [],
   "source": [
    "import sys, os\n",
    "\n",
    "# Path of current working directory (where notebook is running)\n",
    "cwd = os.getcwd()\n",
    "sys.path.append(os.path.join(cwd, \"backdoors101\"))"
   ]
  },
  {
   "cell_type": "code",
   "execution_count": 3,
   "id": "2af4c653",
   "metadata": {},
   "outputs": [],
   "source": [
    "from backdoors101.training import run"
   ]
  },
  {
   "cell_type": "code",
   "execution_count": 4,
   "metadata": {},
   "outputs": [],
   "source": [
    "# 1) imports you need (same modules the script uses)\n",
    "import yaml\n",
    "from types import SimpleNamespace\n",
    "from datetime import datetime\n",
    "from helper import Helper\n",
    "# logging optional\n",
    "import logging\n",
    "logger = logging.getLogger('logger')"
   ]
  },
  {
   "cell_type": "code",
   "execution_count": 5,
   "id": "500c3cc7",
   "metadata": {},
   "outputs": [],
   "source": [
    "\n",
    "# 2) set args (like argparse would)\n",
    "params_path = \"./config_loss.yml\"   # change to the config you want\n",
    "exp_name = \"mnist_loss_test_run\"\n",
    "commit = \"none\"   # or get_current_git_hash() if available/importable\n"
   ]
  },
  {
   "cell_type": "code",
   "execution_count": 6,
   "id": "b484f616",
   "metadata": {},
   "outputs": [],
   "source": [
    "# 3) load params and attach fields the script expects\n",
    "with open(params_path, \"r\") as f:\n",
    "    params = yaml.load(f, Loader=yaml.FullLoader)\n"
   ]
  },
  {
   "cell_type": "code",
   "execution_count": 7,
   "id": "33df1480",
   "metadata": {},
   "outputs": [],
   "source": [
    "params['current_time'] = datetime.now().strftime('%b.%d_%H.%M')\n",
    "params['commit'] = commit\n",
    "params['name'] = exp_name"
   ]
  },
  {
   "cell_type": "markdown",
   "id": "279b0e5b",
   "metadata": {},
   "source": [
    "### Load MNIST Dataset"
   ]
  },
  {
   "cell_type": "code",
   "execution_count": 8,
   "id": "2a7c9e83",
   "metadata": {},
   "outputs": [],
   "source": [
    "# # 1) Point torchvision's MNIST to a reliable mirror (S3) and keep the same MD5s\n",
    "# from torchvision.datasets import mnist as tv_mnist\n",
    "\n",
    "# tv_mnist.MNIST.resources = [\n",
    "#     (\"https://ossci-datasets.s3.amazonaws.com/mnist/train-images-idx3-ubyte.gz\",\n",
    "#      \"f68b3c2dcbeaaa9fbdd348bbdeb94873\"),\n",
    "#     (\"https://ossci-datasets.s3.amazonaws.com/mnist/train-labels-idx1-ubyte.gz\",\n",
    "#      \"d53e105ee54ea40749a09fcbcd1e9432\"),\n",
    "#     (\"https://ossci-datasets.s3.amazonaws.com/mnist/t10k-images-idx3-ubyte.gz\",\n",
    "#      \"9fb629c4189551a2d022fa330f9573f3\"),\n",
    "#     (\"https://ossci-datasets.s3.amazonaws.com/mnist/t10k-labels-idx1-ubyte.gz\",\n",
    "#      \"ec29112dd5afa0611ce80d1b7f02629c\"),\n",
    "# ]\n",
    "\n",
    "# # 2) Make sure your params point to a writable path\n",
    "# params['data_path'] = params.get('data_path', 'data')"
   ]
  },
  {
   "cell_type": "code",
   "execution_count": 9,
   "metadata": {},
   "outputs": [
    {
     "name": "stderr",
     "output_type": "stream",
     "text": [
      "2025-09-30 23:34:58 - WARNING  - Logging to: saved_models/model_MNIST_Sep.30_23.34_mnist_loss_test_run\n",
      "2025-09-30 23:34:58 - ERROR    - LINK: <a href=\"https://github.com/ebagdasa/backdoors/tree/none\">https://github.com/ebagdasa/backdoors/tree/none</a>\n"
     ]
    }
   ],
   "source": [
    "# 4) create Helper (this sets up datasets, model, attack, etc.)\n",
    "helper = Helper(params)"
   ]
  },
  {
   "cell_type": "markdown",
   "id": "1af68398",
   "metadata": {},
   "source": [
    "### Creating the Backdoor Model"
   ]
  },
  {
   "cell_type": "code",
   "execution_count": 10,
   "id": "3c27c1dc",
   "metadata": {},
   "outputs": [],
   "source": [
    "# OPTIONAL: shorten the run for testing\n",
    "# run a fast smoke-test by limiting batches / epochs\n",
    "helper.params.epochs = 5                  # 20 epochs (for quick test)\n",
    "helper.params.max_batch_id = 50           # limit batches per epoch (small)\n",
    "# If fl mode is enabled in config, set it off for single-node run:\n",
    "helper.params.fl = False"
   ]
  },
  {
   "cell_type": "markdown",
   "id": "0a79dc59",
   "metadata": {},
   "source": [
    "### Running the model"
   ]
  },
  {
   "cell_type": "code",
   "execution_count": 11,
   "id": "501beee7",
   "metadata": {},
   "outputs": [
    {
     "name": "stderr",
     "output_type": "stream",
     "text": [
      "100it [00:02, 38.65it/s]\n",
      "2025-09-30 23:35:01 - WARNING  - Backdoor False. Epoch:     0. Accuracy: Top-1: 8.61 | Loss: value: 2.30\n",
      "0it [00:00, ?it/s]/home/hice1/vchopra37/scratch/projects/ml_security/paper_presentation/paper_presentation/lib/python3.8/site-packages/torchvision/transforms/functional.py:442: UserWarning: Argument 'interpolation' of type int is deprecated since 0.13 and will be removed in 0.15. Please use InterpolationMode enum.\n",
      "  warnings.warn(\n",
      "2025-09-30 23:35:01 - INFO     - Epoch:   1. Batch:     0/938.  Losses: ['backdoor: 2.48', 'normal: 2.30', 'total: 2.30']. Scales: ['backdoor: 0.00', 'normal: 1.00']\n",
      "50it [00:00, 52.46it/s]\n",
      "100it [00:01, 62.02it/s]\n",
      "2025-09-30 23:35:04 - WARNING  - Backdoor False. Epoch:     1. Accuracy: Top-1: 63.38 | Loss: value: 0.89\n",
      "100it [00:01, 60.09it/s]\n",
      "2025-09-30 23:35:06 - WARNING  - Backdoor True . Epoch:     1. Accuracy: Top-1: 68.18 | Loss: value: 0.79\n",
      "2025-09-30 23:35:06 - INFO     - Saving model to saved_models/model_MNIST_Sep.30_23.34_mnist_loss_test_run.\n",
      "0it [00:00, ?it/s]2025-09-30 23:35:06 - INFO     - Epoch:   2. Batch:     0/938.  Losses: ['backdoor: 1.48', 'normal: 1.39', 'total: 1.41']. Scales: ['backdoor: 0.19', 'normal: 0.81']\n",
      "50it [00:00, 57.23it/s]\n",
      "100it [00:01, 61.76it/s]\n",
      "2025-09-30 23:35:08 - WARNING  - Backdoor False. Epoch:     2. Accuracy: Top-1: 86.95 | Loss: value: 0.44\n",
      "100it [00:01, 60.00it/s]\n",
      "2025-09-30 23:35:10 - WARNING  - Backdoor True . Epoch:     2. Accuracy: Top-1: 54.54 | Loss: value: 1.08\n",
      "2025-09-30 23:35:10 - INFO     - Saving model to saved_models/model_MNIST_Sep.30_23.34_mnist_loss_test_run.\n",
      "0it [00:00, ?it/s]2025-09-30 23:35:10 - INFO     - Epoch:   3. Batch:     0/938.  Losses: ['backdoor: 0.93', 'normal: 0.74', 'total: 0.86']. Scales: ['backdoor: 0.31', 'normal: 0.69']\n",
      "50it [00:00, 57.22it/s]\n",
      "100it [00:01, 61.91it/s]\n",
      "2025-09-30 23:35:12 - WARNING  - Backdoor False. Epoch:     3. Accuracy: Top-1: 94.21 | Loss: value: 0.29\n",
      "100it [00:01, 60.08it/s]\n",
      "2025-09-30 23:35:14 - WARNING  - Backdoor True . Epoch:     3. Accuracy: Top-1: 29.55 | Loss: value: 1.60\n",
      "2025-09-30 23:35:14 - INFO     - Saving model to saved_models/model_MNIST_Sep.30_23.34_mnist_loss_test_run.\n",
      "0it [00:00, ?it/s]2025-09-30 23:35:14 - INFO     - Epoch:   4. Batch:     0/938.  Losses: ['backdoor: 0.78', 'normal: 0.55', 'total: 0.68']. Scales: ['backdoor: 0.32', 'normal: 0.68']\n",
      "50it [00:00, 57.20it/s]\n",
      "100it [00:01, 61.84it/s]\n",
      "2025-09-30 23:35:16 - WARNING  - Backdoor False. Epoch:     4. Accuracy: Top-1: 94.11 | Loss: value: 0.24\n",
      "100it [00:01, 60.14it/s]\n",
      "2025-09-30 23:35:18 - WARNING  - Backdoor True . Epoch:     4. Accuracy: Top-1: 70.11 | Loss: value: 0.72\n",
      "2025-09-30 23:35:18 - INFO     - Saving model to saved_models/model_MNIST_Sep.30_23.34_mnist_loss_test_run.\n",
      "0it [00:00, ?it/s]2025-09-30 23:35:18 - INFO     - Epoch:   5. Batch:     0/938.  Losses: ['backdoor: 0.66', 'normal: 0.52', 'total: 0.62']. Scales: ['backdoor: 0.33', 'normal: 0.67']\n",
      "50it [00:00, 57.12it/s]\n",
      "100it [00:01, 61.71it/s]\n",
      "2025-09-30 23:35:21 - WARNING  - Backdoor False. Epoch:     5. Accuracy: Top-1: 96.30 | Loss: value: 0.15\n",
      "100it [00:01, 59.83it/s]\n",
      "2025-09-30 23:35:22 - WARNING  - Backdoor True . Epoch:     5. Accuracy: Top-1: 86.49 | Loss: value: 0.36\n",
      "2025-09-30 23:35:22 - INFO     - Saving model to saved_models/model_MNIST_Sep.30_23.34_mnist_loss_test_run.\n"
     ]
    }
   ],
   "source": [
    "# 5) run: choose run(helper) for centralized training, or fl_run(helper) for federated mode\n",
    "# Import the functions defined in the script file (if you pasted them into a cell), otherwise\n",
    "# re-define 'run' and 'fl_run' or import them from training module if training.py exposes them.\n",
    "# If you copied the script code into the notebook, you should have run(), test(), train(), fl_run() available.\n",
    "run(helper)   # runs full train/test loop (with the small epoch/batch limits above)\n",
    "# or for federated:\n",
    "# fl_run(helper)\n"
   ]
  },
  {
   "cell_type": "markdown",
   "id": "1c27411a",
   "metadata": {},
   "source": [
    "### Testing the Model"
   ]
  },
  {
   "cell_type": "code",
   "execution_count": null,
   "id": "c7608758",
   "metadata": {},
   "outputs": [],
   "source": []
  }
 ],
 "metadata": {
  "kernelspec": {
   "display_name": "paper_presentation",
   "language": "python",
   "name": "python3"
  },
  "language_info": {
   "codemirror_mode": {
    "name": "ipython",
    "version": 3
   },
   "file_extension": ".py",
   "mimetype": "text/x-python",
   "name": "python",
   "nbconvert_exporter": "python",
   "pygments_lexer": "ipython3",
   "version": "3.8.19"
  }
 },
 "nbformat": 4,
 "nbformat_minor": 5
}
