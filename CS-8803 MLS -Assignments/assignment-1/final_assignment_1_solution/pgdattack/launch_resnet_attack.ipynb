{
 "cells": [
  {
   "cell_type": "code",
   "execution_count": null,
   "id": "11f98d52",
   "metadata": {},
   "outputs": [],
   "source": [
    "from huggingface_hub import login\n",
    "login(token=\"\")"
   ]
  },
  {
   "cell_type": "code",
   "execution_count": null,
   "id": "ac3265cd",
   "metadata": {},
   "outputs": [
    {
     "name": "stdout",
     "output_type": "stream",
     "text": [
      "10\n"
     ]
    }
   ],
   "source": [
    "import argparse\n",
    "import os\n",
    "from resnet_attack_todo import ResnetPGDAttacker\n",
    "from datasets import load_dataset\n",
    "from torchvision.models import resnet50, ResNet50_Weights\n",
    "from torch.utils.data import DataLoader\n",
    "import torch"
   ]
  },
  {
   "cell_type": "code",
   "execution_count": null,
   "id": "a73a31af",
   "metadata": {},
   "outputs": [],
   "source": [
    "parser = argparse.ArgumentParser(description=\"Attacking a Resnet50 model\")\n",
    "parser.add_argument('--eps', type=float, help='maximum perturbation for PGD attack', default=8 / 255)\n",
    "parser.add_argument('--alpha', type=float, help='step size for PGD attack', default=2 / 255)\n",
    "parser.add_argument('--steps', type=int, help='number of steps for PGD attack', default=20)\n",
    "parser.add_argument('--batch_size', type=int, help='batch size for PGD attack', default=100)\n",
    "parser.add_argument('--batch_num', type=int, help='number of batches on which to run PGD attack', default=None)\n",
    "parser.add_argument('--results', type=str, help='name of the file to save the results to', required=True)\n",
    "parser.add_argument('--resultsdir', type=str, help='name of the folder to save the results to', default='results')\n",
    "parser.add_argument('--seed', type=int, help='set manual seed value for reproducibility, default 1234',\n",
    "                    default=1234)\n",
    "parser.add_argument('--test', action='store_true', help='test that code runs')\n",
    "args = parser.parse_args()"
   ]
  },
  {
   "cell_type": "code",
   "execution_count": null,
   "id": "f79a0be6",
   "metadata": {},
   "outputs": [],
   "source": [
    "RESULTS_DIR = args.resultsdir\n",
    "RESULTS_PATH = os.path.join(RESULTS_DIR, args.results)\n",
    "if not os.path.isdir(RESULTS_DIR):\n",
    "    os.makedirs(RESULTS_DIR)"
   ]
  },
  {
   "cell_type": "code",
   "execution_count": null,
   "id": "a5e0b024",
   "metadata": {},
   "outputs": [],
   "source": [
    "if args.seed:\n",
    "    SEED = args.seed\n",
    "    torch.manual_seed(SEED)\n",
    "else:\n",
    "    SEED = torch.seed()"
   ]
  },
  {
   "cell_type": "code",
   "execution_count": null,
   "id": "b2df7e24",
   "metadata": {},
   "outputs": [],
   "source": [
    "EPS = args.eps\n",
    "ALPHA = args.alpha\n",
    "STEPS = args.steps"
   ]
  },
  {
   "cell_type": "code",
   "execution_count": null,
   "id": "812cefa6",
   "metadata": {},
   "outputs": [],
   "source": [
    "BATCH_SIZE = args.batch_size\n",
    "BATCH_NUM = args.batch_num\n",
    "if BATCH_NUM is None:\n",
    "    BATCH_NUM = 1281167 // BATCH_SIZE + 1\n",
    "assert BATCH_NUM > 0"
   ]
  },
  {
   "cell_type": "code",
   "execution_count": null,
   "metadata": {},
   "outputs": [],
   "source": [
    "print('Loading model...')\n",
    "# Step 1: Initialize model with the best available weights\n",
    "weights = ResNet50_Weights.DEFAULT\n",
    "model = resnet50(weights=weights)\n",
    "preprocess = weights.transforms()"
   ]
  },
  {
   "cell_type": "code",
   "execution_count": null,
   "id": "949e104c",
   "metadata": {},
   "outputs": [],
   "source": [
    "# Step 2: Load and preprocess data\n",
    "print('Loading data...')\n",
    "\n",
    "# Load ImageNet-1k dataset from Huggingface\n",
    "ds = load_dataset(\"ILSVRC/imagenet-1k\", split=\"train\", streaming=True, trust_remote_code=True)\n"
   ]
  },
  {
   "cell_type": "code",
   "execution_count": null,
   "id": "5ffb3357",
   "metadata": {},
   "outputs": [],
   "source": [
    "\n",
    "def preprocess_img(example):\n",
    "    example['image'] = preprocess(example['image'])\n",
    "    return example"
   ]
  },
  {
   "cell_type": "code",
   "execution_count": null,
   "id": "13b42341",
   "metadata": {},
   "outputs": [],
   "source": [
    "# Filter out grayscale images\n",
    "ds = ds.filter(lambda example: example['image'].mode == 'RGB')\n",
    "# Preprocess function will be applied to images on-the-fly whenever they are being accessed in the loop\n",
    "ds = ds.map(preprocess_img)\n",
    "ds = ds.shuffle(seed=SEED)\n",
    "# Only take desired portion of dataset\n",
    "ds = ds.take(BATCH_NUM * BATCH_SIZE)\n"
   ]
  },
  {
   "cell_type": "code",
   "execution_count": null,
   "metadata": {},
   "outputs": [],
   "source": [
    "dset_loader = DataLoader(ds, batch_size=BATCH_SIZE)\n",
    "dset_classes = weights.meta[\"categories\"]\n",
    "attacker = ResnetPGDAttacker(model, dset_loader)"
   ]
  },
  {
   "cell_type": "code",
   "execution_count": null,
   "id": "54249239",
   "metadata": {},
   "outputs": [],
   "source": [
    "if args.test:\n",
    "    print(f\"===Testing on {BATCH_NUM if BATCH_NUM else 'all'} batches of data===\")\n",
    "    attacker.compute_accuracy(BATCH_NUM)\n",
    "    print(f\"Accuracy on original images: {attacker.acc * 100}%\")\n",
    "    torch.save({\n",
    "        'acc': attacker.acc,\n",
    "    }, RESULTS_PATH)\n",
    "\n",
    "else:\n",
    "    print(f\"===Launching PGD attack on {BATCH_NUM if BATCH_NUM else 'all'} batches of data===\")\n",
    "    print(f\"Attack configs: eps = {EPS}, alpha = {ALPHA}, steps = {STEPS}, batch size = {BATCH_SIZE}\")\n",
    "\n",
    "    attacker.pgd_batch_attack(EPS, ALPHA, STEPS, BATCH_NUM)\n",
    "    print(f\"Accuracy on original images: {attacker.acc * 100}%\")\n",
    "    print(f\"Accuracy on adversarial images: {attacker.adv_acc * 100}%\")\n",
    "\n",
    "    torch.save({\n",
    "        'acc': attacker.acc,\n",
    "        'adv_acc': attacker.adv_acc,\n",
    "        'adv_images': attacker.adv_images,\n",
    "        'labels': attacker.labels,\n",
    "        'clean_images': attacker.clean_images,\n",
    "        'adv_labels_predictions': attacker.adv_labels_predictions,\n",
    "        'eps': EPS,\n",
    "        'alpha': ALPHA,\n",
    "        'steps': STEPS,\n",
    "        'seed': SEED\n",
    "    }, RESULTS_PATH)\n",
    "\n"
   ]
  },
  {
   "cell_type": "code",
   "execution_count": null,
   "metadata": {},
   "outputs": [],
   "source": []
  }
 ],
 "metadata": {
  "kernelspec": {
   "display_name": "mls_assignment1",
   "language": "python",
   "name": "python3"
  },
  "language_info": {
   "codemirror_mode": {
    "name": "ipython",
    "version": 3
   },
   "file_extension": ".py",
   "mimetype": "text/x-python",
   "name": "python",
   "nbconvert_exporter": "python",
   "pygments_lexer": "ipython3",
   "version": "3.11.7"
  }
 },
 "nbformat": 4,
 "nbformat_minor": 5
}
